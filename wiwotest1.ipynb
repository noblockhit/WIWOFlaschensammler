{
 "cells": [
  {
   "cell_type": "code",
   "execution_count": 1,
   "metadata": {},
   "outputs": [],
   "source": [
    "import cv2\n",
    "import numpy as np\n",
    "import matplotlib.pyplot as plt\n",
    "\n",
    "vid = cv2.VideoCapture(0, cv2.CAP_DSHOW) \n",
    "\n",
    "label = input(\"Please provide a label!!!!!!!! \")\n",
    "index = 0"
   ]
  },
  {
   "cell_type": "code",
   "execution_count": 2,
   "metadata": {},
   "outputs": [],
   "source": [
    "def AnalyseImage(frame):\n",
    "    THREASHOLD = 0.35\n",
    "    BLUR = 15\n",
    "\n",
    "    blurred = cv2.blur(frame, (BLUR*2+1, BLUR*2+1))\n",
    "    mask  = np.ones((frame.shape[0],frame.shape[1]))\n",
    "    mask[:,:] = 255\n",
    "\n",
    "    height, width, channels = frame.shape\n",
    "\n",
    "    hist_b = cv2.calcHist([frame], [0], None, [256], [0, 256])\n",
    "    hist_g = cv2.calcHist([frame], [1], None, [256], [0, 256])\n",
    "    hist_r = cv2.calcHist([frame], [2], None, [256], [0, 256])\n",
    "\n",
    "    hist_b = hist_b.flatten()\n",
    "    hist_g = hist_g.flatten()\n",
    "    hist_r = hist_r.flatten()\n",
    "    hists = [hist_b, hist_g, hist_r]\n",
    "\n",
    "    common_b = np.argmax(hist_b)\n",
    "    common_g = np.argmax(hist_g)\n",
    "    common_r = np.argmax(hist_r)\n",
    "\n",
    "\n",
    "    \n",
    "    for y in range(height):\n",
    "        for x in range(width):\n",
    "            pixel = blurred[y,x]\n",
    "            b, g, r = pixel\n",
    "            threashold_b = (b / common_b if b / common_b < 1 else common_b/b) if common_b != 0 and b != 0 else 1\n",
    "            threashold_g = (g / common_g if g / common_g < 1 else common_g/g) if common_g != 0 and g != 0 else 1\n",
    "            threashold_r = (r / common_r if r / common_r < 1 else common_r/r) if common_r != 0 and r != 0 else 1\n",
    "            \n",
    "            \n",
    "            \n",
    "            average = (threashold_b + threashold_g + threashold_r) / 3\n",
    "\n",
    "\n",
    "            if average > 1-THREASHOLD:\n",
    "                frame[y,x] = [0,0,0]\n",
    "                mask[y,x] = 0\n",
    "\n",
    "\n",
    "    return mask"
   ]
  },
  {
   "cell_type": "code",
   "execution_count": 3,
   "metadata": {},
   "outputs": [
    {
     "ename": "KeyboardInterrupt",
     "evalue": "",
     "output_type": "error",
     "traceback": [
      "\u001b[1;31m---------------------------------------------------------------------------\u001b[0m",
      "\u001b[1;31mKeyboardInterrupt\u001b[0m                         Traceback (most recent call last)",
      "Cell \u001b[1;32mIn[3], line 5\u001b[0m\n\u001b[0;32m      3\u001b[0m \u001b[38;5;28;01mwhile\u001b[39;00m \u001b[38;5;28;01mTrue\u001b[39;00m:\n\u001b[0;32m      4\u001b[0m     cv2\u001b[38;5;241m.\u001b[39mimshow(\u001b[38;5;124m\"\u001b[39m\u001b[38;5;124mRichardsFensterXD\u001b[39m\u001b[38;5;124m\"\u001b[39m,frame)\n\u001b[1;32m----> 5\u001b[0m     pressedKey \u001b[38;5;241m=\u001b[39m \u001b[43mcv2\u001b[49m\u001b[38;5;241;43m.\u001b[39;49m\u001b[43mwaitKey\u001b[49m\u001b[43m(\u001b[49m\u001b[38;5;241;43m50\u001b[39;49m\u001b[43m)\u001b[49m\n\u001b[0;32m      7\u001b[0m     \u001b[38;5;28;01mif\u001b[39;00m  pressedKey \u001b[38;5;241m==\u001b[39m \u001b[38;5;28mord\u001b[39m(\u001b[38;5;124m'\u001b[39m\u001b[38;5;124mq\u001b[39m\u001b[38;5;124m'\u001b[39m):\n\u001b[0;32m      8\u001b[0m         \u001b[38;5;28;01mbreak\u001b[39;00m\n",
      "\u001b[1;31mKeyboardInterrupt\u001b[0m: "
     ]
    }
   ],
   "source": [
    "ret, frame = vid.read()\n",
    "mask = None\n",
    "while True:\n",
    "    cv2.imshow(\"RichardsFensterXD\",frame)\n",
    "    pressedKey = cv2.waitKey(50)\n",
    "    \n",
    "    if  pressedKey == ord('q'):\n",
    "        break\n",
    "    \n",
    "    elif pressedKey == ord('f'):\n",
    "        ret, frame = vid.read()\n",
    "        mask = AnalyseImage(frame)\n",
    "        \n",
    "    elif pressedKey == ord('s'):\n",
    "        cv2.imwrite(f'TrainingData//{label}_{index}.png',frame)\n",
    "        cv2.imwrite(f'TrainingData//{label}_{index}.mask.png',mask)\n",
    "        index +=1\n",
    "\n",
    "\n",
    "\n",
    "cv2.destroyAllWindows()\n",
    "vid.release()"
   ]
  }
 ],
 "metadata": {
  "kernelspec": {
   "display_name": "Python 3",
   "language": "python",
   "name": "python3"
  },
  "language_info": {
   "codemirror_mode": {
    "name": "ipython",
    "version": 3
   },
   "file_extension": ".py",
   "mimetype": "text/x-python",
   "name": "python",
   "nbconvert_exporter": "python",
   "pygments_lexer": "ipython3",
   "version": "3.11.9"
  }
 },
 "nbformat": 4,
 "nbformat_minor": 2
}
