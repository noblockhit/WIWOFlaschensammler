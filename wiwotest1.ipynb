{
 "cells": [
  {
   "cell_type": "code",
   "execution_count": 1,
   "metadata": {},
   "outputs": [],
   "source": [
    "import cv2\n",
    "import numpy as np\n",
    "import matplotlib.pyplot as plt\n",
    "\n",
    "vid = cv2.VideoCapture(0, cv2.CAP_DSHOW) \n",
    "\n",
    "label = input(\"Please provide a label!!!!!!!! \")\n",
    "index = 0"
   ]
  },
  {
   "cell_type": "code",
   "execution_count": 2,
   "metadata": {},
   "outputs": [],
   "source": [
    "def AnalyseImage(frame):\n",
    "    THREASHOLD = 0.35\n",
    "    BLUR = 15\n",
    "\n",
    "    blurred = cv2.blur(frame, (BLUR*2+1, BLUR*2+1))\n",
    "    mask  = np.ones((frame.shape[0],frame.shape[1]))\n",
    "    mask[:,:] = 255\n",
    "\n",
    "    height, width, channels = frame.shape\n",
    "\n",
    "    hist_b = cv2.calcHist([frame], [0], None, [256], [0, 256])\n",
    "    hist_g = cv2.calcHist([frame], [1], None, [256], [0, 256])\n",
    "    hist_r = cv2.calcHist([frame], [2], None, [256], [0, 256])\n",
    "\n",
    "    hist_b = hist_b.flatten()\n",
    "    hist_g = hist_g.flatten()\n",
    "    hist_r = hist_r.flatten()\n",
    "    hists = [hist_b, hist_g, hist_r]\n",
    "\n",
    "    common_b = np.argmax(hist_b)\n",
    "    common_g = np.argmax(hist_g)\n",
    "    common_r = np.argmax(hist_r)\n",
    "\n",
    "\n",
    "    \n",
    "    for y in range(height):\n",
    "        for x in range(width):\n",
    "            pixel = blurred[y,x]\n",
    "            b, g, r = pixel\n",
    "            threashold_b = b / common_b if b / common_b < 1 else common_b/b \n",
    "            threashold_g = g / common_g if g / common_g < 1 else common_g/g \n",
    "            threashold_r = r / common_r if r / common_r < 1 else common_r/r \n",
    "            \n",
    "            average = (threashold_b + threashold_g + threashold_r) / 3\n",
    "\n",
    "\n",
    "            if average > 1-THREASHOLD:\n",
    "                frame[y,x] = [0,0,0]\n",
    "                mask[y,x] = 0\n",
    "\n",
    "\n",
    "    return mask\n",
    "    \n",
    "\n",
    "\n",
    "\n",
    "        \n",
    "\n",
    "\n"
   ]
  },
  {
   "cell_type": "code",
   "execution_count": 3,
   "metadata": {},
   "outputs": [],
   "source": [
    "ret, frame = vid.read()\n",
    "mask = None\n",
    "while True:\n",
    "    cv2.imshow(\"RichardsFensterXD\",frame)\n",
    "    pressedKey = cv2.waitKey(50)\n",
    "    \n",
    "    if  pressedKey == ord('q'):\n",
    "        break;\n",
    "    elif pressedKey == ord('f'):\n",
    "        ret, frame = vid.read()\n",
    "        mask = AnalyseImage(frame)\n",
    "        \n",
    "    elif pressedKey == ord('9'):\n",
    "        while True:\n",
    "            print(\"RIKI IST DAAAAAA\")\n",
    "    elif pressedKey == ord('s'):\n",
    "        cv2.imwrite(f'TrainingData//{label}_{index}.png',frame)\n",
    "        cv2.imwrite(f'TrainingData//{label}_{index}.mask.png',mask)\n",
    "        index +=1\n",
    "\n",
    "\n",
    "\n",
    "cv2.destroyAllWindows()\n",
    "vid.release()\n",
    "#ende"
   ]
  },
  {
   "cell_type": "code",
   "execution_count": null,
   "metadata": {},
   "outputs": [],
   "source": [
    "#cv2.imshow(\"wintogo\",frame)\n",
    "#cv2.waitKey(0)"
   ]
  },
  {
   "cell_type": "code",
   "execution_count": null,
   "metadata": {},
   "outputs": [],
   "source": []
  }
 ],
 "metadata": {
  "kernelspec": {
   "display_name": "Python 3",
   "language": "python",
   "name": "python3"
  },
  "language_info": {
   "codemirror_mode": {
    "name": "ipython",
    "version": 3
   },
   "file_extension": ".py",
   "mimetype": "text/x-python",
   "name": "python",
   "nbconvert_exporter": "python",
   "pygments_lexer": "ipython3",
   "version": "3.11.9"
  }
 },
 "nbformat": 4,
 "nbformat_minor": 2
}