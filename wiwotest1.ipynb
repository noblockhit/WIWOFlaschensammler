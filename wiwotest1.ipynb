{
 "cells": [
  {
   "cell_type": "code",
   "execution_count": 10,
   "metadata": {},
   "outputs": [],
   "source": [
    "import cv2\n",
    "import numpy as np\n",
    "import matplotlib.pyplot as plt\n",
    "\n",
    "vid = cv2.VideoCapture(0, cv2.CAP_DSHOW) \n",
    "THREASHOLD = 0.35\n",
    "BLUR = 15\n"
   ]
  },
  {
   "cell_type": "code",
   "execution_count": 11,
   "metadata": {},
   "outputs": [],
   "source": [
    "def update_THREASHOLDBar(val):\n",
    "    THREASHOLD = val\n",
    "\n",
    "def  update_BLURBar(val):\n",
    "    BLUR = val\n",
    "    \n",
    "\n"
   ]
  },
  {
   "cell_type": "code",
   "execution_count": 12,
   "metadata": {},
   "outputs": [
    {
     "ename": "error",
     "evalue": "OpenCV(4.10.0) :-1: error: (-5:Bad argument) in function 'imshow'\n> Overload resolution failed:\n>  - imshow() missing required argument 'mat' (pos 2)\n>  - imshow() missing required argument 'mat' (pos 2)\n>  - imshow() missing required argument 'mat' (pos 2)\n",
     "output_type": "error",
     "traceback": [
      "\u001b[1;31m---------------------------------------------------------------------------\u001b[0m",
      "\u001b[1;31merror\u001b[0m                                     Traceback (most recent call last)",
      "Cell \u001b[1;32mIn[12], line 1\u001b[0m\n\u001b[1;32m----> 1\u001b[0m \u001b[43mcv2\u001b[49m\u001b[38;5;241;43m.\u001b[39;49m\u001b[43mimshow\u001b[49m\u001b[43m(\u001b[49m\u001b[38;5;124;43m\"\u001b[39;49m\u001b[38;5;124;43mCedric\u001b[39;49m\u001b[38;5;124;43m\"\u001b[39;49m\u001b[43m)\u001b[49m\n\u001b[0;32m      2\u001b[0m cv2\u001b[38;5;241m.\u001b[39mimshow(\u001b[38;5;124m\"\u001b[39m\u001b[38;5;124mRIKI\u001b[39m\u001b[38;5;124m\"\u001b[39m)\n\u001b[0;32m      4\u001b[0m cv2\u001b[38;5;241m.\u001b[39mcreateTrackbar(\u001b[38;5;124m'\u001b[39m\u001b[38;5;124mThreashold\u001b[39m\u001b[38;5;124m'\u001b[39m, \u001b[38;5;124m\"\u001b[39m\u001b[38;5;124mCedric\u001b[39m\u001b[38;5;124m\"\u001b[39m,\u001b[38;5;241m0\u001b[39m,\u001b[38;5;241m1\u001b[39m,update_THREASHOLDBar)\n",
      "\u001b[1;31merror\u001b[0m: OpenCV(4.10.0) :-1: error: (-5:Bad argument) in function 'imshow'\n> Overload resolution failed:\n>  - imshow() missing required argument 'mat' (pos 2)\n>  - imshow() missing required argument 'mat' (pos 2)\n>  - imshow() missing required argument 'mat' (pos 2)\n"
     ]
    }
   ],
   "source": [
    "cv2.namedWindow(\"Cedric\")\n",
    "cv2.namedWindow(\"RIKI\")\n",
    "\n",
    "cv2.createTrackbar('Threashold', \"Cedric\",0,1,update_THREASHOLDBar)\n",
    "cv2.createTrackbar('BLUR', \"RIKI\",0,50,update_BLURBar)\n",
    "label = input(\"Please provide a label!!!!!!!! \")\n",
    "index = 0"
   ]
  },
  {
   "cell_type": "code",
   "execution_count": null,
   "metadata": {},
   "outputs": [],
   "source": [
    "\n",
    "def AnalyseImage(frame):\n",
    "\n",
    "    blurred = cv2.blur(frame, (BLUR*2+1, BLUR*2+1))\n",
    "    mask  = np.ones((frame.shape[0],frame.shape[1]))\n",
    "    mask[:,:] = 255\n",
    "\n",
    "    height, width, channels = frame.shape\n",
    "\n",
    "    hist_b = cv2.calcHist([frame], [0], None, [256], [0, 256])\n",
    "    hist_g = cv2.calcHist([frame], [1], None, [256], [0, 256])\n",
    "    hist_r = cv2.calcHist([frame], [2], None, [256], [0, 256])\n",
    "\n",
    "    hist_b = hist_b.flatten()\n",
    "    hist_g = hist_g.flatten()\n",
    "    hist_r = hist_r.flatten()\n",
    "    hists = [hist_b, hist_g, hist_r]\n",
    "\n",
    "    common_b = np.argmax(hist_b)\n",
    "    common_g = np.argmax(hist_g)\n",
    "    common_r = np.argmax(hist_r)\n",
    "\n",
    "\n",
    "    \n",
    "    for y in range(height):\n",
    "        for x in range(width):\n",
    "            pixel = blurred[y,x]\n",
    "            b, g, r = pixel\n",
    "            threashold_b = b / common_b if b / common_b < 1 else common_b/b \n",
    "            threashold_g = g / common_g if g / common_g < 1 else common_g/g \n",
    "            threashold_r = r / common_r if r / common_r < 1 else common_r/r \n",
    "            \n",
    "            average = (threashold_b + threashold_g + threashold_r) / 3\n",
    "\n",
    "\n",
    "            if average > 1-THREASHOLD:\n",
    "                frame[y,x] = [0,0,0]\n",
    "                mask[y,x] = 0\n",
    "\n",
    "\n",
    "    return mask\n",
    "    \n",
    "\n",
    "\n",
    "\n",
    "        \n",
    "\n",
    "\n"
   ]
  },
  {
   "cell_type": "code",
   "execution_count": null,
   "metadata": {},
   "outputs": [
    {
     "ename": "KeyboardInterrupt",
     "evalue": "",
     "output_type": "error",
     "traceback": [
      "\u001b[1;31m---------------------------------------------------------------------------\u001b[0m",
      "\u001b[1;31mKeyboardInterrupt\u001b[0m                         Traceback (most recent call last)",
      "Cell \u001b[1;32mIn[3], line 5\u001b[0m\n\u001b[0;32m      3\u001b[0m \u001b[38;5;28;01mwhile\u001b[39;00m \u001b[38;5;28;01mTrue\u001b[39;00m:\n\u001b[0;32m      4\u001b[0m     cv2\u001b[38;5;241m.\u001b[39mimshow(\u001b[38;5;124m\"\u001b[39m\u001b[38;5;124mRichardsFensterXD\u001b[39m\u001b[38;5;124m\"\u001b[39m,frame)\n\u001b[1;32m----> 5\u001b[0m     pressedKey \u001b[38;5;241m=\u001b[39m \u001b[43mcv2\u001b[49m\u001b[38;5;241;43m.\u001b[39;49m\u001b[43mwaitKey\u001b[49m\u001b[43m(\u001b[49m\u001b[38;5;241;43m50\u001b[39;49m\u001b[43m)\u001b[49m\n\u001b[0;32m      7\u001b[0m     \u001b[38;5;28;01mif\u001b[39;00m  pressedKey \u001b[38;5;241m==\u001b[39m \u001b[38;5;28mord\u001b[39m(\u001b[38;5;124m'\u001b[39m\u001b[38;5;124mq\u001b[39m\u001b[38;5;124m'\u001b[39m):\n\u001b[0;32m      8\u001b[0m         \u001b[38;5;28;01mbreak\u001b[39;00m;\n",
      "\u001b[1;31mKeyboardInterrupt\u001b[0m: "
     ]
    }
   ],
   "source": [
    "ret, frame = vid.read()\n",
    "mask = None\n",
    "while True:\n",
    "    cv2.imshow(\"RichardsFensterXD\",frame)\n",
    "    pressedKey = cv2.waitKey(50)\n",
    "    \n",
    "    if  pressedKey == ord('q'):\n",
    "        break;\n",
    "    elif pressedKey == ord('f'):\n",
    "        ret, frame = vid.read()\n",
    "        mask = AnalyseImage(frame)\n",
    "        \n",
    "    elif pressedKey == ord('9'):\n",
    "        while True:\n",
    "            print(\"RIKI IST DAAAAAA\")\n",
    "    elif pressedKey == ord('s'):\n",
    "        cv2.imwrite(f'TrainingData//{label}_{index}.png',frame)\n",
    "        cv2.imwrite(f'TrainingData//{label}_{index}.mask.png',mask)\n",
    "        index +=1\n",
    "\n",
    "\n",
    "\n",
    "cv2.destroyAllWindows()\n",
    "vid.release()\n",
    "#ende"
   ]
  }
 ],
 "metadata": {
  "kernelspec": {
   "display_name": "Python 3",
   "language": "python",
   "name": "python3"
  },
  "language_info": {
   "codemirror_mode": {
    "name": "ipython",
    "version": 3
   },
   "file_extension": ".py",
   "mimetype": "text/x-python",
   "name": "python",
   "nbconvert_exporter": "python",
   "pygments_lexer": "ipython3",
   "version": "3.11.9"
  }
 },
 "nbformat": 4,
 "nbformat_minor": 2
}