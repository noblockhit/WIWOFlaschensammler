{
 "cells": [
  {
   "cell_type": "code",
   "execution_count": 9,
   "metadata": {},
   "outputs": [],
   "source": [
    "import cv2\n",
    "import numpy as np\n",
    "from tkinter.filedialog import askopenfiles\n",
    "from sharedFunctions import getFeatures"
   ]
  },
  {
   "cell_type": "code",
   "execution_count": 10,
   "metadata": {},
   "outputs": [],
   "source": [
    "files = askopenfiles(title=\"Select files\", filetypes=[(\"Image files\", \"*.png\")], multiple=True)"
   ]
  },
  {
   "cell_type": "code",
   "execution_count": 11,
   "metadata": {},
   "outputs": [],
   "source": [
    "all_features = []\n",
    "for file in files:\n",
    "    if file.name.endswith(\".mask.png\"):\n",
    "        continue\n",
    "    image = cv2.imread(file.name)\n",
    "    keyimage = cv2.imread(file.name.replace(\".png\", \".mask.png\"), cv2.IMREAD_GRAYSCALE)\n",
    "    binary_mask = (keyimage // 255).astype(np.uint8)\n",
    "\n",
    "    features = getFeatures(image, binary_mask)\n",
    "    all_features.append(features)\n",
    "all_features = np.array(all_features)"
   ]
  },
  {
   "cell_type": "code",
   "execution_count": 12,
   "metadata": {},
   "outputs": [],
   "source": [
    "import pandas as pd\n",
    "\n",
    "\n",
    "df = pd.DataFrame(columns=all_features[0].keys())\n",
    "for i, features in enumerate(all_features):\n",
    "    df.loc[i] = features\n",
    "df.to_csv(\"keinglas.csv\", index=False)"
   ]
  }
 ],
 "metadata": {
  "kernelspec": {
   "display_name": "Python 3",
   "language": "python",
   "name": "python3"
  },
  "language_info": {
   "codemirror_mode": {
    "name": "ipython",
    "version": 3
   },
   "file_extension": ".py",
   "mimetype": "text/x-python",
   "name": "python",
   "nbconvert_exporter": "python",
   "pygments_lexer": "ipython3",
   "version": "3.12.0"
  }
 },
 "nbformat": 4,
 "nbformat_minor": 2
}
