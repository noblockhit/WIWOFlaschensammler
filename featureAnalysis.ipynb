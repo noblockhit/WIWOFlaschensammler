{
 "cells": [
  {
   "cell_type": "code",
   "execution_count": 1,
   "metadata": {},
   "outputs": [],
   "source": [
    "import cv2\n",
    "import numpy as np\n",
    "import matplotlib.pyplot as plt\n",
    "import os\n",
    "from tkinter.filedialog import askopenfiles"
   ]
  },
  {
   "cell_type": "code",
   "execution_count": 2,
   "metadata": {},
   "outputs": [],
   "source": [
    "files = askopenfiles(title=\"Select files\", filetypes=[(\"Image files\", \"*.png\")], multiple=True)"
   ]
  },
  {
   "cell_type": "code",
   "execution_count": 3,
   "metadata": {},
   "outputs": [],
   "source": [
    "def getFeatures(image, binary_mask):\n",
    "    features = {}\n",
    "\n",
    "    hist_b = cv2.calcHist([image], [0], binary_mask, [256], [0, 256])\n",
    "    hist_g = cv2.calcHist([image], [1], binary_mask, [256], [0, 256])\n",
    "    hist_r = cv2.calcHist([image], [2], binary_mask, [256], [0, 256])\n",
    "\n",
    "    hist_b = hist_b.flatten()\n",
    "    hist_g = hist_g.flatten()\n",
    "    hist_r = hist_r.flatten()\n",
    "    hists = [hist_b, hist_g, hist_r]\n",
    "\n",
    "    col_b = hist_b.argmax() / hist_b.shape[0]\n",
    "    col_g = hist_g.argmax() / hist_g.shape[0]\n",
    "    col_r = hist_r.argmax() / hist_r.shape[0]\n",
    "\n",
    "    features[\"blue\"] = col_b\n",
    "    features[\"green\"] = col_g\n",
    "    features[\"red\"] = col_r\n",
    "\n",
    "        \n",
    "    contours, _ = cv2.findContours(binary_mask, cv2.RETR_EXTERNAL, cv2.CHAIN_APPROX_SIMPLE)\n",
    "\n",
    "\n",
    "    if contours:\n",
    "        largest_contour = max(contours, key=cv2.contourArea)\n",
    "        real_area = cv2.contourArea(largest_contour)\n",
    "        \n",
    "        _, radius = cv2.minEnclosingCircle(largest_contour)\n",
    "        radius = int(radius)\n",
    "        circle_area = np.pi * radius ** 2\n",
    "\n",
    "        rect = cv2.minAreaRect(largest_contour)\n",
    "        box = cv2.boxPoints(rect)\n",
    "        box = np.int64(box)\n",
    "        rect_area = cv2.contourArea(box)\n",
    "        \n",
    "        \n",
    "        circle_area_ratio = real_area / circle_area\n",
    "        rect_area_ratio = real_area / rect_area\n",
    "        \n",
    "        total_area_ratio = real_area / (image.shape[0] * image.shape[1])\n",
    "        \n",
    "        features[\"circle_area_ratio\"] = circle_area_ratio\n",
    "        features[\"rect_area_ratio\"] = rect_area_ratio\n",
    "        features[\"total_area_ratio\"] = total_area_ratio\n",
    "        \n",
    "        \n",
    "    else:\n",
    "        raise ValueError(\"No contours found in binary mask\")\n",
    "    \n",
    "    return features\n"
   ]
  },
  {
   "cell_type": "code",
   "execution_count": 8,
   "metadata": {},
   "outputs": [],
   "source": [
    "all_features = []\n",
    "for file in files:\n",
    "    if file.name.endswith(\".mask.png\"):\n",
    "        continue\n",
    "    image = cv2.imread(file.name)\n",
    "    keyimage = cv2.imread(file.name.replace(\".png\", \".mask.png\"), cv2.IMREAD_GRAYSCALE)\n",
    "    binary_mask = (keyimage // 255).astype(np.uint8)\n",
    "\n",
    "    features = getFeatures(image, binary_mask)\n",
    "    all_features.append(features)\n",
    "all_features = np.array(all_features)"
   ]
  },
  {
   "cell_type": "code",
   "execution_count": 9,
   "metadata": {},
   "outputs": [],
   "source": [
    "import csv\n",
    "\n",
    "with open(\"gruenglas.csv\", mode='w', newline='') as file:\n",
    "    # Create a writer object with fieldnames based on the keys of the first dictionary\n",
    "    fieldnames = ['index'] + list(all_features[0].keys())\n",
    "    writer = csv.DictWriter(file, fieldnames=fieldnames)\n",
    "    \n",
    "    # Write the header (field names)\n",
    "    writer.writeheader()\n",
    "    \n",
    "    # Write the data rows\n",
    "    writer.writerows(all_features)"
   ]
  }
 ],
 "metadata": {
  "kernelspec": {
   "display_name": "Python 3",
   "language": "python",
   "name": "python3"
  },
  "language_info": {
   "codemirror_mode": {
    "name": "ipython",
    "version": 3
   },
   "file_extension": ".py",
   "mimetype": "text/x-python",
   "name": "python",
   "nbconvert_exporter": "python",
   "pygments_lexer": "ipython3",
   "version": "3.12.0"
  }
 },
 "nbformat": 4,
 "nbformat_minor": 2
}
