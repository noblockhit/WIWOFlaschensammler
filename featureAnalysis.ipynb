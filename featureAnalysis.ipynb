{
 "cells": [
  {
   "cell_type": "code",
   "execution_count": 1,
   "metadata": {},
   "outputs": [],
   "source": [
    "import cv2\n",
    "import numpy as np\n",
    "import matplotlib.pyplot as plt"
   ]
  },
  {
   "cell_type": "code",
   "execution_count": 6,
   "metadata": {},
   "outputs": [
    {
     "data": {
      "text/plain": [
       "-1"
      ]
     },
     "execution_count": 6,
     "metadata": {},
     "output_type": "execute_result"
    }
   ],
   "source": [
    "image = cv2.imread(r\"C:\\Users\\richa\\Downloads\\img.png\")\n",
    "keyimage = cv2.imread(r\"C:\\Users\\richa\\Downloads\\imgmask.png\", cv2.IMREAD_GRAYSCALE)\n",
    "binary_mask = (keyimage // 255).astype(np.uint8)\n",
    "\n",
    "cv2.imshow(\"image\", image)\n",
    "cv2.imshow(\"keyimage\", keyimage)\n",
    "cv2.waitKey(0)"
   ]
  },
  {
   "cell_type": "code",
   "execution_count": 7,
   "metadata": {},
   "outputs": [],
   "source": [
    "features = []\n",
    "\n",
    "hist_b = cv2.calcHist([image], [0], binary_mask, [256], [0, 256])\n",
    "hist_g = cv2.calcHist([image], [1], binary_mask, [256], [0, 256])\n",
    "hist_r = cv2.calcHist([image], [2], binary_mask, [256], [0, 256])\n",
    "\n",
    "hist_b = hist_b.flatten()\n",
    "hist_g = hist_g.flatten()\n",
    "hist_r = hist_r.flatten()\n",
    "hists = [hist_b, hist_g, hist_r]\n",
    "\n",
    "col_b = hist_b.argmax() / hist_b.shape[0]\n",
    "col_g = hist_g.argmax() / hist_g.shape[0]\n",
    "col_r = hist_r.argmax() / hist_r.shape[0]\n",
    "\n",
    "features += [col_b, col_g, col_r]\n"
   ]
  },
  {
   "cell_type": "code",
   "execution_count": 8,
   "metadata": {},
   "outputs": [
    {
     "ename": "ValueError",
     "evalue": "No contours found in binary mask",
     "output_type": "error",
     "traceback": [
      "\u001b[1;31m---------------------------------------------------------------------------\u001b[0m",
      "\u001b[1;31mValueError\u001b[0m                                Traceback (most recent call last)",
      "Cell \u001b[1;32mIn[8], line 26\u001b[0m\n\u001b[0;32m     23\u001b[0m     features \u001b[38;5;241m+\u001b[39m\u001b[38;5;241m=\u001b[39m [circle_area_ratio, rect_area_ratio, total_area_ratio]\n\u001b[0;32m     25\u001b[0m \u001b[38;5;28;01melse\u001b[39;00m:\n\u001b[1;32m---> 26\u001b[0m     \u001b[38;5;28;01mraise\u001b[39;00m \u001b[38;5;167;01mValueError\u001b[39;00m(\u001b[38;5;124m\"\u001b[39m\u001b[38;5;124mNo contours found in binary mask\u001b[39m\u001b[38;5;124m\"\u001b[39m)\n",
      "\u001b[1;31mValueError\u001b[0m: No contours found in binary mask"
     ]
    }
   ],
   "source": [
    "\n",
    "contours, _ = cv2.findContours(binary_mask, cv2.RETR_EXTERNAL, cv2.CHAIN_APPROX_SIMPLE)\n",
    "\n",
    "\n",
    "if contours:\n",
    "    largest_contour = max(contours, key=cv2.contourArea)\n",
    "    real_area = cv2.contourArea(largest_contour)\n",
    "    \n",
    "    radius = cv2.minEnclosingCircle(largest_contour)\n",
    "    radius = int(radius)\n",
    "    circle_area = np.pi * radius ** 2\n",
    "\n",
    "    rect = cv2.minAreaRect(largest_contour)\n",
    "    box = cv2.boxPoints(rect)\n",
    "    box = np.int0(box)\n",
    "    rect_area = cv2.contourArea(box)\n",
    "    \n",
    "    \n",
    "    circle_area_ratio = real_area / circle_area\n",
    "    rect_area_ratio = real_area / rect_area\n",
    "    \n",
    "    total_area_ratio = (image.shape[0] * image.shape[1]) / real_area\n",
    "    \n",
    "    features += [circle_area_ratio, rect_area_ratio, total_area_ratio]\n",
    "    \n",
    "else:\n",
    "    raise ValueError(\"No contours found in binary mask\")\n",
    "\n"
   ]
  }
 ],
 "metadata": {
  "kernelspec": {
   "display_name": "Python 3",
   "language": "python",
   "name": "python3"
  },
  "language_info": {
   "codemirror_mode": {
    "name": "ipython",
    "version": 3
   },
   "file_extension": ".py",
   "mimetype": "text/x-python",
   "name": "python",
   "nbconvert_exporter": "python",
   "pygments_lexer": "ipython3",
   "version": "3.11.3"
  }
 },
 "nbformat": 4,
 "nbformat_minor": 2
}
